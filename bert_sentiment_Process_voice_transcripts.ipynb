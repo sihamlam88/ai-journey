{
  "nbformat": 4,
  "nbformat_minor": 0,
  "metadata": {
    "colab": {
      "provenance": [],
      "authorship_tag": "ABX9TyMhly/vVRXA1N+eS6I32ynO",
      "include_colab_link": true
    },
    "kernelspec": {
      "name": "python3",
      "display_name": "Python 3"
    },
    "language_info": {
      "name": "python"
    }
  },
  "cells": [
    {
      "cell_type": "markdown",
      "metadata": {
        "id": "view-in-github",
        "colab_type": "text"
      },
      "source": [
        "<a href=\"https://colab.research.google.com/github/sihamlam88/ai-journey/blob/main/bert_sentiment_Process_voice_transcripts.ipynb\" target=\"_parent\"><img src=\"https://colab.research.google.com/assets/colab-badge.svg\" alt=\"Open In Colab\"/></a>"
      ]
    },
    {
      "cell_type": "code",
      "execution_count": 3,
      "metadata": {
        "colab": {
          "base_uri": "https://localhost:8080/"
        },
        "id": "6vduHpbTT-mW",
        "outputId": "26b07772-4170-4486-ae40-00e7e0ff8694"
      },
      "outputs": [
        {
          "output_type": "stream",
          "name": "stderr",
          "text": [
            "No model was supplied, defaulted to distilbert/distilbert-base-uncased-finetuned-sst-2-english and revision 714eb0f (https://huggingface.co/distilbert/distilbert-base-uncased-finetuned-sst-2-english).\n",
            "Using a pipeline without specifying a model name and revision in production is not recommended.\n",
            "Device set to use cpu\n"
          ]
        },
        {
          "output_type": "stream",
          "name": "stdout",
          "text": [
            "📞 Call Transcript with Sentiment:\n",
            "\n",
            "Customer: Hi, my internet is not working since this morning.\n",
            "→ Sentiment: NEGATIVE (1.0) 😡\n",
            "\n",
            "Agent: I’m sorry to hear that. Let me look into it.\n",
            "→ Sentiment: NEGATIVE (0.94) 😡\n",
            "\n",
            "Customer: I’ve already called twice and nothing has been fixed.\n",
            "→ Sentiment: NEGATIVE (1.0) 😡\n",
            "\n",
            "Agent: I understand your frustration. I’ll do my best to resolve this now.\n",
            "→ Sentiment: NEGATIVE (0.59) 😡\n",
            "\n",
            "Customer: It’s really unacceptable. I work from home and this is affecting my job.\n",
            "→ Sentiment: NEGATIVE (1.0) 😡\n",
            "\n",
            "Agent: I’ve refreshed your line. Can you check now?\n",
            "→ Sentiment: POSITIVE (1.0) 😊\n",
            "\n",
            "Customer: Okay... yes, it looks like it’s back. Thank you.\n",
            "→ Sentiment: POSITIVE (1.0) 😊\n",
            "\n",
            "Agent: Glad to hear it. I’ll monitor it for the next 24 hours.\n",
            "→ Sentiment: POSITIVE (1.0) 😊\n",
            "\n",
            "Customer: Thanks. I appreciate your help today.\n",
            "→ Sentiment: POSITIVE (1.0) 😊\n",
            "\n",
            "⚠️ Moments of Frustration (Customer Only):\n",
            "\n",
            "- Hi, my internet is not working since this morning. (Score: 1.0)\n",
            "- I’ve already called twice and nothing has been fixed. (Score: 1.0)\n",
            "- It’s really unacceptable. I work from home and this is affecting my job. (Score: 1.0)\n"
          ]
        }
      ],
      "source": [
        "from transformers import pipeline\n",
        "\n",
        "# Sample call transcript\n",
        "call_transcript = [\n",
        "    {\"speaker\": \"Customer\", \"text\": \"Hi, my internet is not working since this morning.\"},\n",
        "    {\"speaker\": \"Agent\", \"text\": \"I’m sorry to hear that. Let me look into it.\"},\n",
        "    {\"speaker\": \"Customer\", \"text\": \"I’ve already called twice and nothing has been fixed.\"},\n",
        "    {\"speaker\": \"Agent\", \"text\": \"I understand your frustration. I’ll do my best to resolve this now.\"},\n",
        "    {\"speaker\": \"Customer\", \"text\": \"It’s really unacceptable. I work from home and this is affecting my job.\"},\n",
        "    {\"speaker\": \"Agent\", \"text\": \"I’ve refreshed your line. Can you check now?\"},\n",
        "    {\"speaker\": \"Customer\", \"text\": \"Okay... yes, it looks like it’s back. Thank you.\"},\n",
        "    {\"speaker\": \"Agent\", \"text\": \"Glad to hear it. I’ll monitor it for the next 24 hours.\"},\n",
        "    {\"speaker\": \"Customer\", \"text\": \"Thanks. I appreciate your help today.\"}\n",
        "]\n",
        "\n",
        "# Load sentiment model\n",
        "sentiment_analyzer = pipeline(\"sentiment-analysis\")\n",
        "\n",
        "# Run analysis\n",
        "for turn in call_transcript:\n",
        "    result = sentiment_analyzer(turn[\"text\"])[0]\n",
        "    turn[\"sentiment\"] = result[\"label\"]\n",
        "    turn[\"score\"] = round(result[\"score\"], 2)\n",
        "\n",
        "# Print detailed transcript with sentiment\n",
        "print(\"📞 Call Transcript with Sentiment:\\n\")\n",
        "for turn in call_transcript:\n",
        "    emoji = \"😊\" if turn[\"sentiment\"] == \"POSITIVE\" else \"😡\"\n",
        "    print(f\"{turn['speaker']}: {turn['text']}\")\n",
        "    print(f\"→ Sentiment: {turn['sentiment']} ({turn['score']}) {emoji}\\n\")\n",
        "\n",
        "# Only show real frustration from customer\n",
        "print(\"⚠️ Moments of Frustration (Customer Only):\\n\")\n",
        "for turn in call_transcript:\n",
        "    if turn[\"speaker\"] == \"Customer\" and turn[\"sentiment\"] == \"NEGATIVE\":\n",
        "        print(f\"- {turn['text']} (Score: {turn['score']})\")"
      ]
    }
  ]
}