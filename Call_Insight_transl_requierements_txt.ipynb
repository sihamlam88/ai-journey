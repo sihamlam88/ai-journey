{
  "nbformat": 4,
  "nbformat_minor": 0,
  "metadata": {
    "colab": {
      "provenance": [],
      "authorship_tag": "ABX9TyPAclsXVJYk2snI78LbhyZg",
      "include_colab_link": true
    },
    "kernelspec": {
      "name": "python3",
      "display_name": "Python 3"
    },
    "language_info": {
      "name": "python"
    }
  },
  "cells": [
    {
      "cell_type": "markdown",
      "metadata": {
        "id": "view-in-github",
        "colab_type": "text"
      },
      "source": [
        "<a href=\"https://colab.research.google.com/github/sihamlam88/ai-journey/blob/main/Call_Insight_transl_requierements_txt.ipynb\" target=\"_parent\"><img src=\"https://colab.research.google.com/assets/colab-badge.svg\" alt=\"Open In Colab\"/></a>"
      ]
    },
    {
      "cell_type": "code",
      "execution_count": null,
      "metadata": {
        "id": "r1sDsH5hOmel"
      },
      "outputs": [],
      "source": [
        "gradio\n",
        "requests\n",
        "matplotlib\n",
        "pillow\n",
        "pandas\n",
        "nltk\n",
        "sentence_splitter"
      ]
    }
  ]
}