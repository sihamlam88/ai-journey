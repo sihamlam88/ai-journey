{
  "nbformat": 4,
  "nbformat_minor": 0,
  "metadata": {
    "colab": {
      "provenance": [],
      "authorship_tag": "ABX9TyNQC2+efgoC0Rt/yq+n78Kt",
      "include_colab_link": true
    },
    "kernelspec": {
      "name": "python3",
      "display_name": "Python 3"
    },
    "language_info": {
      "name": "python"
    }
  },
  "cells": [
    {
      "cell_type": "markdown",
      "metadata": {
        "id": "view-in-github",
        "colab_type": "text"
      },
      "source": [
        "<a href=\"https://colab.research.google.com/github/sihamlam88/ai-journey/blob/main/NLP_Basics.ipynb\" target=\"_parent\"><img src=\"https://colab.research.google.com/assets/colab-badge.svg\" alt=\"Open In Colab\"/></a>"
      ]
    },
    {
      "cell_type": "code",
      "execution_count": 21,
      "metadata": {
        "colab": {
          "base_uri": "https://localhost:8080/"
        },
        "id": "hijmrAdDHuvU",
        "outputId": "d45d8092-dd79-46a6-d2f2-deac740854e7"
      },
      "outputs": [
        {
          "output_type": "stream",
          "name": "stdout",
          "text": [
            "📊 Classification Report:\n",
            "\n",
            "              precision    recall  f1-score   support\n",
            "\n",
            "           0       0.67      0.50      0.57         4\n",
            "           1       0.50      0.67      0.57         3\n",
            "\n",
            "    accuracy                           0.57         7\n",
            "   macro avg       0.58      0.58      0.57         7\n",
            "weighted avg       0.60      0.57      0.57         7\n",
            "\n",
            "\n",
            "'I love how fast this got resolved!' → Positive 😊\n",
            "\n",
            "'No one answered my request.' → Negative 😡\n"
          ]
        }
      ],
      "source": [
        "import pandas as pd\n",
        "from sklearn.feature_extraction.text import TfidfVectorizer\n",
        "from sklearn.linear_model import LogisticRegression\n",
        "from sklearn.model_selection import train_test_split\n",
        "from sklearn.metrics import classification_report\n",
        "\n",
        "# ----------------------------\n",
        "# 1. Create and expand dataset\n",
        "# ----------------------------\n",
        "\n",
        "data = {\n",
        "    \"text\": [\n",
        "        \"My internet is not working, please help!\",\n",
        "        \"Thank you for the quick support, very satisfied!\",\n",
        "        \"Still waiting for someone to call me back.\",\n",
        "        \"Agent was rude, I want to file a complaint.\",\n",
        "        \"Best service ever, really appreciate it.\",\n",
        "        \"It’s been 3 days and I have no update. Not happy.\",\n",
        "        \"Everything is working perfectly now. Great job!\",\n",
        "        \"I’ve been disconnected three times! Fix this.\",\n",
        "        \"Support team was helpful and polite.\",\n",
        "        \"Nobody helped me. Waste of time.\",\n",
        "        \"Love the way your agent handled my issue!\",\n",
        "        \"The app keeps crashing. Terrible experience.\",\n",
        "        \"Really happy with the service I received!\",\n",
        "        \"Excellent support! Thanks a lot!\",\n",
        "        \"Terrible wait time, I’m frustrated.\",\n",
        "        \"Fantastic resolution speed, I’m impressed!\",\n",
        "        \"No one contacted me, very bad support.\",\n",
        "        \"Perfect, no issues at all. Thank you!\",\n",
        "        \"Worst experience I’ve ever had.\",\n",
        "        \"Couldn’t be happier, well done!\"\n",
        "    ],\n",
        "    \"label\": [0, 1, 0, 0, 1, 0, 1, 0, 1, 0, 1, 0, 1, 1, 0, 1, 0, 1, 0, 1]\n",
        "}\n",
        "\n",
        "df = pd.DataFrame(data)\n",
        "\n",
        "# ----------------------------\n",
        "# 2. Vectorize using TF-IDF\n",
        "# ----------------------------\n",
        "\n",
        "vectorizer = TfidfVectorizer()\n",
        "X = vectorizer.fit_transform(df[\"text\"])\n",
        "y = df[\"label\"]\n",
        "\n",
        "# ----------------------------\n",
        "# 3. Stratified train/test split\n",
        "# ----------------------------\n",
        "\n",
        "X_train, X_test, y_train, y_test = train_test_split(\n",
        "    X, y, test_size=0.35, stratify=y, random_state=42\n",
        ")\n",
        "\n",
        "# ----------------------------\n",
        "# 4. Train model with balancing\n",
        "# ----------------------------\n",
        "\n",
        "model = LogisticRegression(class_weight='balanced', solver='liblinear')\n",
        "model.fit(X_train, y_train)\n",
        "\n",
        "# ----------------------------\n",
        "# 5. Evaluate model\n",
        "# ----------------------------\n",
        "\n",
        "y_pred = model.predict(X_test)\n",
        "print(\"📊 Classification Report:\\n\")\n",
        "print(classification_report(y_test, y_pred))\n",
        "\n",
        "# ----------------------------\n",
        "# 6. Test on new messages\n",
        "# ----------------------------\n",
        "\n",
        "new_text = [\"I love how fast this got resolved!\", \"No one answered my request.\"]\n",
        "new_vec = vectorizer.transform(new_text)\n",
        "predictions = model.predict(new_vec)\n",
        "\n",
        "for text, label in zip(new_text, predictions):\n",
        "    sentiment = \"Positive 😊\" if label == 1 else \"Negative 😡\"\n",
        "    print(f\"\\n'{text}' → {sentiment}\")"
      ]
    }
  ]
}