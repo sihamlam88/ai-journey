{
  "nbformat": 4,
  "nbformat_minor": 0,
  "metadata": {
    "colab": {
      "provenance": [],
      "authorship_tag": "ABX9TyMxBHDKR8HcCq5MtH90BeOi",
      "include_colab_link": true
    },
    "kernelspec": {
      "name": "python3",
      "display_name": "Python 3"
    },
    "language_info": {
      "name": "python"
    }
  },
  "cells": [
    {
      "cell_type": "markdown",
      "metadata": {
        "id": "view-in-github",
        "colab_type": "text"
      },
      "source": [
        "<a href=\"https://colab.research.google.com/github/sihamlam88/ai-journey/blob/main/bart_summarization_model.ipynb\" target=\"_parent\"><img src=\"https://colab.research.google.com/assets/colab-badge.svg\" alt=\"Open In Colab\"/></a>"
      ]
    },
    {
      "cell_type": "code",
      "execution_count": 7,
      "metadata": {
        "colab": {
          "base_uri": "https://localhost:8080/"
        },
        "id": "4TDK4eyNat7R",
        "outputId": "8330cf6b-e5c4-44dd-f7ca-d2d63608feb8"
      },
      "outputs": [
        {
          "output_type": "stream",
          "name": "stderr",
          "text": [
            "Device set to use cpu\n"
          ]
        },
        {
          "output_type": "stream",
          "name": "stdout",
          "text": [
            "📄 Final Clean Summary:\n",
            "\n",
            "I’ve already called twice and nothing has been fixed. It’s really unacceptable. I work from home and this is affecting my job. I’ll monitor it for the next 24 hours. Thanks.\n"
          ]
        }
      ],
      "source": [
        "!pip install -q transformers sentencepiece\n",
        "\n",
        "from transformers import pipeline\n",
        "\n",
        "# Load BART\n",
        "summarizer = pipeline(\"summarization\", model=\"facebook/bart-large-cnn\")\n",
        "\n",
        "# Original transcript (same as before)\n",
        "call_transcript = [\n",
        "    {\"speaker\": \"Customer\", \"text\": \"Hi, my internet is not working since this morning.\"},\n",
        "    {\"speaker\": \"Agent\", \"text\": \"I’m sorry to hear that. Let me look into it.\"},\n",
        "    {\"speaker\": \"Customer\", \"text\": \"I’ve already called twice and nothing has been fixed.\"},\n",
        "    {\"speaker\": \"Agent\", \"text\": \"I understand your frustration. I’ll do my best to resolve this now.\"},\n",
        "    {\"speaker\": \"Customer\", \"text\": \"It’s really unacceptable. I work from home and this is affecting my job.\"},\n",
        "    {\"speaker\": \"Agent\", \"text\": \"I’ve refreshed your line. Can you check now?\"},\n",
        "    {\"speaker\": \"Customer\", \"text\": \"Okay... yes, it looks like it’s back. Thank you.\"},\n",
        "    {\"speaker\": \"Agent\", \"text\": \"Glad to hear it. I’ll monitor it for the next 24 hours.\"},\n",
        "    {\"speaker\": \"Customer\", \"text\": \"Thanks. I appreciate your help today.\"}\n",
        "]\n",
        "\n",
        "# Use plain text only\n",
        "plain_text = \" \".join([t['text'] for t in call_transcript])\n",
        "\n",
        "# Run summarization\n",
        "summary = summarizer(\n",
        "    plain_text,\n",
        "    max_length=120,\n",
        "    min_length=40,\n",
        "    do_sample=False\n",
        ")[0][\"summary_text\"]\n",
        "\n",
        "print(\"📄 Final Clean Summary:\\n\")\n",
        "print(summary)"
      ]
    }
  ]
}